{
 "cells": [
  {
   "cell_type": "markdown",
   "metadata": {},
   "source": [
    "# NU-Geopaths - Coding in Python 1 \n",
    "\n",
    "Coding (computer programming) is helpful for geoscientists. It helps us with repeating tasks, processing and analyzing data, modeling of geoscientific processes, and visualization of results.\n",
    "The Python computer programming language is popular among scientists because it is easy to use, smart, versatile, and works on almost any computer. \n",
    "\n",
    "We begin with the code that we experimented with in the most basic way Python can be used on a computer, interactively typing Python commands in a Python Shell (a terminal window). \n"
   ]
  },
  {
   "cell_type": "code",
   "execution_count": 1,
   "metadata": {},
   "outputs": [
    {
     "name": "stdout",
     "output_type": "stream",
     "text": [
      "it's true!\n"
     ]
    }
   ],
   "source": [
    "2+6\n",
    "8-2\n",
    "9 - - 5\n",
    "9*5\n",
    "6/4\n",
    "4**2\n",
    "4**3\n",
    "4**0.5\n",
    "360/6.28\n",
    "# etc.\n",
    "10+2-6*4/5**3*1.1/7.2+8.3-9.4\n",
    "\n",
    "#Do these to evaluate to the same value?\n",
    "10+2-6*4/5\n",
    "#And \n",
    "(10+2-6)*4/5\n",
    "#(No, why?)\n",
    "\n",
    "(10+2-6)*4/(5**3)*1.1\n",
    "#And \n",
    "(10+2-6)*4/5**3*1.1\n",
    "#(Yes, why?)\n",
    "\n",
    "(10+2-6)*4/(5**3)*1.1/7.2+8.3-9.4\n",
    "#And \n",
    "(10+2-6)*4/5**3*1.1/(7.2+8.3-9.4)\n",
    "#(No, why?)\n",
    "\n",
    "\n",
    "type(9.4)\n",
    "type(6.28)\n",
    "type(10)\n",
    "type(2)\n",
    "\n",
    "float(2) # --> floating point number  (2 integers: value and exponent)\n",
    "int(2.0) # --> integer  (whole number)\n",
    "int(2.4)\n",
    "int(2.7) # --> it doesn't round like you expect\n",
    "round(2.7)\n",
    "\n",
    "# It is important to know what type of object something is because \n",
    "# some functions apply only to floating point values or to integers.\n",
    "# Other types: Boolean (Only 2 possible values)\n",
    "# True \n",
    "# False\n",
    "\n",
    "#Example:\n",
    "if True:\n",
    "    print(\"it's true!\")\n",
    "\n"
   ]
  },
  {
   "cell_type": "code",
   "execution_count": 2,
   "metadata": {},
   "outputs": [
    {
     "name": "stdout",
     "output_type": "stream",
     "text": [
      "hello it's true!\n"
     ]
    }
   ],
   "source": [
    "if False:\n",
    "     print(\"hello\")\n",
    "        \n",
    "# should not print anything\n",
    "\n",
    "# Yet another object type:\n",
    "# String (text)  (always)\n",
    "\n",
    "string1 = \"hello\"\n",
    "string2 = \"it's true!\" \n",
    "\n",
    "print(string1, string2)"
   ]
  },
  {
   "cell_type": "code",
   "execution_count": 3,
   "metadata": {},
   "outputs": [
    {
     "name": "stdout",
     "output_type": "stream",
     "text": [
      "10 5\n"
     ]
    }
   ],
   "source": [
    "wordl1 = 10\n",
    "wordl2 = 5\n",
    "print(wordl1, wordl2)"
   ]
  },
  {
   "cell_type": "code",
   "execution_count": 4,
   "metadata": {},
   "outputs": [
    {
     "name": "stdout",
     "output_type": "stream",
     "text": [
      "it's true\n",
      "it's false\n"
     ]
    }
   ],
   "source": [
    "# starting a line of code with a hash symbol indicates it is an English comment rather than a Python command\n",
    "# comments are useful for the coder who returns to the code later on or for a fellow coder who didn't write the code.\n",
    "\n",
    "truetext = \"it's true\"\n",
    "falstext = \"it's false\"\n",
    "\n",
    "greater = wordl1 > wordl2\n",
    "smaller = wordl1 < wordl2\n",
    "\n",
    "# test whether wordl1 is greater than wordl2:\n",
    "if greater:\n",
    "     print(truetext)\n",
    "else:\n",
    "     print(falstext)\n",
    "\n",
    "if smaller:\n",
    "     print(truetext)\n",
    "else:\n",
    "     print(falstext)\n"
   ]
  },
  {
   "cell_type": "markdown",
   "metadata": {},
   "source": [
    "What are the names for the objects we used:\n",
    "1. ``wordl1, wordl2``\n",
    "2. ``greater, smaller``\n",
    "3. ``truetext, falstext``\n",
    "\n",
    "What types are they? \n",
    "\n",
    "Now check if you were right:"
   ]
  },
  {
   "cell_type": "code",
   "execution_count": 5,
   "metadata": {},
   "outputs": [
    {
     "name": "stdout",
     "output_type": "stream",
     "text": [
      "<class 'int'> <class 'int'>\n",
      "<class 'bool'> <class 'bool'>\n",
      "<class 'str'> <class 'str'>\n"
     ]
    }
   ],
   "source": [
    "print(type(wordl1), type(wordl2))\n",
    "print(type(greater), type(smaller))\n",
    "print(type(truetext), type(falstext))"
   ]
  },
  {
   "cell_type": "markdown",
   "metadata": {},
   "source": [
    "By the way, \"names\" are often also called \"variables\", as in mathematics.\n",
    "\n",
    "Python also has different types for groups of objects, such as lists, tuples, and sets.\n",
    "\n",
    "1. list: a collection of objects enclosed in ``[ ]`` that may be of the same type or of different types, in a given order. Each object can be changed individually after the list is defined, in other words: a list is mutable.\n",
    "2. tuple: a collection of objects enclosed in ``( )`` that may be of the same type or of different types, in a given order. Each object cannot be changed individually after the tuple is defined, in other words: a tuple is immutable.\n",
    "3. set: a collection of objects enclosed in ``{ }`` that may be of the same type or of different types, in no specific order. Because the order used when defining the set is not remembered, it is not possible to change an individual item in the set. A set is unordered and unchangable.\n",
    "\n",
    "Let's go off-track for a moment and experiment with lists, tuples, and sets. We will use them later."
   ]
  },
  {
   "cell_type": "code",
   "execution_count": 6,
   "metadata": {},
   "outputs": [
    {
     "name": "stdout",
     "output_type": "stream",
     "text": [
      "[1, 2.2, 'NU', True]\n",
      "(42.056, -87.675, 0.182, 99000)\n",
      "{False, 18, 'Northwestern', 6.28}\n",
      "2.2\n",
      "-87.675\n",
      "[1, 'I-changed', 'NU', True]\n",
      "(42.056, -87.675, 0.182, 99000)\n",
      "{False, 18, 'Northwestern', 6.28}\n"
     ]
    }
   ],
   "source": [
    "listexample = [1,2.2,\"NU\",True]\n",
    "tupleexample = (42.056, -87.675, 0.182, 99000)   # latitude, longitude (degrees), elevation (km), barometric pressure (Pascal)\n",
    "setexample = {\"Northwestern\", 18, False, 6.28}\n",
    "\n",
    "# print all:\n",
    "print(listexample)\n",
    "print(tupleexample)\n",
    "print(setexample)\n",
    "\n",
    "# print only one item from each:\n",
    "print(listexample[1])\n",
    "print(tupleexample[1])\n",
    "#print(setexample[1])\n",
    "\n",
    "# change one item in each:\n",
    "listexample[1] = \"I-changed\"\n",
    "#tupleexample[1] = \"I-changed\"\n",
    "#setexample[1] = \"I-changed\"\n",
    "\n",
    "# print all again to see what changed:\n",
    "print(listexample)\n",
    "print(tupleexample)\n",
    "print(setexample)\n"
   ]
  },
  {
   "cell_type": "markdown",
   "metadata": {},
   "source": [
    "Did you get appropriate error messages when you tried to call on item 1 from an unordered set? ... when you tried to change item 1 of an immutable tuple or unchangable set?\n",
    "\n",
    "Did you follow how names are used to refer to objects with specific values assigned to them? Python uses names to point to objects with values in the computer's memory. Two names and point to the same object. For example:\n"
   ]
  },
  {
   "cell_type": "code",
   "execution_count": 7,
   "metadata": {},
   "outputs": [
    {
     "name": "stdout",
     "output_type": "stream",
     "text": [
      "[1, 2.2, 'NU', True]\n",
      "[1, 2.2, 'NU', True]\n",
      "[1, 2.2, 'NU', True]\n",
      "[1, 'I-changed', 'NU', True]\n",
      "[1, 2.2, 'NU', True]\n",
      "[1, 'I-changed', 'NU', True]\n"
     ]
    }
   ],
   "source": [
    "list1 = [1,2.2,\"NU\",True]\n",
    "list2 = [1,2.2,\"NU\",True]\n",
    "list3 = list1\n",
    "\n",
    "print(list1)\n",
    "print(list2)\n",
    "print(list3)\n",
    "\n",
    "list1[1] = \"I-changed\"\n",
    "\n",
    "print(list1)\n",
    "print(list2)\n",
    "print(list3)\n"
   ]
  },
  {
   "cell_type": "markdown",
   "metadata": {},
   "source": [
    "Do you see what happened here?\n",
    "\n",
    "Let's get back on track. There is a built-in Python function that gives us the length of an object. For example:"
   ]
  },
  {
   "cell_type": "code",
   "execution_count": 8,
   "metadata": {},
   "outputs": [
    {
     "name": "stdout",
     "output_type": "stream",
     "text": [
      "4\n",
      "11 10\n"
     ]
    }
   ],
   "source": [
    "listlength = len(listexample)\n",
    "print(listlength)\n",
    "\n",
    "word1 = \"NU-Geopaths\"\n",
    "word2 = \"geoscience\"\n",
    "\n",
    "wordl1 = len(word1)\n",
    "wordl2 = len(word2)\n",
    "print(wordl1, wordl2)"
   ]
  },
  {
   "cell_type": "markdown",
   "metadata": {},
   "source": [
    "Can we use the ``len()`` function and make our code provide more informative output? Yes. \n",
    "\n",
    "1. Instead of providng integers, we can provide actual words and compute their lengths with the ``len()`` function,\n",
    "2. We could print the values of the boolean names directly. Then we do not need the strings we defined, \n",
    "3. We could also print the expression that was evaluated to be true or false.\n",
    "\n",
    "Can you do that?"
   ]
  },
  {
   "cell_type": "code",
   "execution_count": null,
   "metadata": {},
   "outputs": [],
   "source": []
  },
  {
   "cell_type": "code",
   "execution_count": 17,
   "metadata": {},
   "outputs": [
    {
     "name": "stdout",
     "output_type": "stream",
     "text": [
      "True NU-Geopaths is longer than  geoscience\n"
     ]
    }
   ],
   "source": [
    "greater = len(word1) > len(word2)\n",
    "#greater = len(word2) > len(word1)\n",
    "\n",
    "# test whether word1 is longer than word2:\n",
    "if greater:\n",
    "     print(greater, word1, \"is longer than \", word2)\n",
    "else:\n",
    "     print(greater, word1, \"is not longer than \", word2)\n"
   ]
  },
  {
   "cell_type": "markdown",
   "metadata": {},
   "source": [
    "Got it, so far? Let's look at something else now. \n",
    "\n",
    "We are going to plot a mathematical functions and/or data point using lists and a Python package calle ``matplotlib``, whihc you will have to import."
   ]
  },
  {
   "cell_type": "code",
   "execution_count": 21,
   "metadata": {},
   "outputs": [
    {
     "name": "stdout",
     "output_type": "stream",
     "text": [
      "[8400, 8211, 8024, 7839, 7656, 7475, 7296, 7119, 6944, 6771, 6600, 6431, 6264, 6099, 5936, 5775, 5616, 5459, 5304, 5151, 5000, 4851, 4704, 4559, 4416, 4275, 4136, 3999, 3864, 3731, 3600, 3471, 3344, 3219, 3096, 2975, 2856, 2739, 2624, 2511, 2400, 2291, 2184, 2079, 1976, 1875, 1776, 1679, 1584, 1491, 1400, 1311, 1224, 1139, 1056, 975, 896, 819, 744, 671, 600, 531, 464, 399, 336, 275, 216, 159, 104, 51, 0, -49, -96, -141, -184, -225, -264, -301, -336, -369, -400, -429, -456, -481, -504, -525, -544, -561, -576, -589, -600, -609, -616, -621, -624, -625, -624, -621, -616, -609, -600, -589, -576, -561, -544, -525, -504, -481, -456, -429, -400, -369, -336, -301, -264, -225, -184, -141, -96, -49, 0, 51, 104, 159, 216, 275, 336, 399, 464, 531, 600, 671, 744, 819, 896, 975, 1056, 1139, 1224, 1311, 1400, 1491, 1584, 1679, 1776, 1875, 1976, 2079, 2184, 2291, 2400, 2511, 2624, 2739, 2856, 2975, 3096, 3219, 3344, 3471, 3600, 3731, 3864, 3999, 4136, 4275, 4416, 4559, 4704, 4851, 5000, 5151, 5304, 5459, 5616, 5775, 5936, 6099, 6264, 6431, 6600, 6771, 6944, 7119, 7296, 7475, 7656, 7839, 8024, 8211, 8400, 8591, 8784, 8979, 9176, 9375, 9576, 9779, 9984, 10191]\n"
     ]
    }
   ],
   "source": [
    "xlist = range(-100,100)\n",
    "ylist = [ ]\n",
    "for x in xlist:\n",
    "    y = (x-20)*(x+30)\n",
    "    ylist.append(y)\n",
    "    \n",
    "print(ylist)"
   ]
  },
  {
   "cell_type": "code",
   "execution_count": 22,
   "metadata": {},
   "outputs": [
    {
     "name": "stderr",
     "output_type": "stream",
     "text": [
      "Matplotlib is building the font cache using fc-list. This may take a moment.\n"
     ]
    },
    {
     "data": {
      "image/png": "[encoded data removed]",
      "text/plain": [
       "<Figure size 432x288 with 1 Axes>"
      ]
     },
     "metadata": {
      "needs_background": "light"
     },
     "output_type": "display_data"
    }
   ],
   "source": [
    "import matplotlib.pyplot \n",
    "\n",
    "matplotlib.pyplot.plot(xlist,ylist)\n",
    "matplotlib.pyplot.show()\n"
   ]
  },
  {
   "cell_type": "code",
   "execution_count": null,
   "metadata": {},
   "outputs": [],
   "source": []
  },
  {
   "cell_type": "code",
   "execution_count": null,
   "metadata": {},
   "outputs": [],
   "source": []
  },
  {
   "cell_type": "code",
   "execution_count": null,
   "metadata": {},
   "outputs": [],
   "source": []
  }
 ],
 "metadata": {
  "kernelspec": {
   "display_name": "Python 3",
   "language": "python",
   "name": "python3"
  },
  "language_info": {
   "codemirror_mode": {
    "name": "ipython",
    "version": 3
   },
   "file_extension": ".py",
   "mimetype": "text/x-python",
   "name": "python",
   "nbconvert_exporter": "python",
   "pygments_lexer": "ipython3",
   "version": "3.8.3"
  }
 },
 "nbformat": 4,
 "nbformat_minor": 4
}
